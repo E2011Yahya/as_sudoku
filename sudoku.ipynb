{
 "cells": [
  {
   "cell_type": "code",
   "execution_count": null,
   "metadata": {},
   "outputs": [],
   "source": []
  },
  {
   "cell_type": "code",
   "execution_count": 1,
   "metadata": {},
   "outputs": [
    {
     "name": "stdout",
     "output_type": "stream",
     "text": [
      "- - - - - - - - - - - - - - -\n",
      "0  0  0  | 0  6  4  | 0  0  0\n",
      "7  0  0  | 0  0  0  | 3  9  0\n",
      "8  0  0  | 0  0  0  | 0  0  0\n",
      "- - - - - - - - - - - - - - -\n",
      "0  0  0  | 5  0  2  | 0  6  0\n",
      "0  8  0  | 4  0  0  | 0  0  0\n",
      "3  5  0  | 6  0  0  | 0  7  0\n",
      "- - - - - - - - - - - - - - -\n",
      "0  0  2  | 0  0  0  | 1  0  3\n",
      "0  0  1  | 0  5  9  | 0  0  0\n",
      "0  0  0  | 0  0  0  | 7  0  0\n",
      "- - - - - - - - - - - - - - -\n"
     ]
    }
   ],
   "source": [
    "sudoku = [\n",
    "    [0, 0, 0, 0, 6, 4, 0, 0, 0],\n",
    "    [7, 0, 0, 0, 0, 0, 3, 9, 0],\n",
    "    [8, 0, 0, 0, 0, 0, 0, 0, 0],\n",
    "    [0, 0, 0, 5, 0, 2, 0, 6, 0],\n",
    "    [0, 8, 0, 4, 0, 0, 0, 0, 0],\n",
    "    [3, 5, 0, 6, 0, 0, 0, 7, 0],\n",
    "    [0, 0, 2, 0, 0, 0, 1, 0, 3],\n",
    "    [0, 0, 1, 0, 5, 9, 0, 0, 0],\n",
    "    [0, 0, 0, 0, 0, 0, 7, 0, 0]\n",
    "]\n",
    "\n",
    "for i in sudoku:\n",
    "    a = sudoku.index(i)\n",
    "    if a == 0 :\n",
    "        print(\"- - - - - - - - - - - - - - -\")\n",
    "        print(\"  \".join(str(x) for x in  sudoku[a][0:3]), \" |\", (\"  \".join(str(x) for x in sudoku[a][3:6])), \" |\", (\"  \".join(str(x) for x in sudoku[a][6:9]) ))\n",
    "    \n",
    "    elif a <=2 : \n",
    "        print(\"  \".join(str(x) for x in  sudoku[a][0:3]), \" |\", (\"  \".join(str(x) for x in sudoku[a][3:6])), \" |\", (\"  \".join(str(x) for x in sudoku[a][6:9]) ))\n",
    "        \n",
    "    elif a == 3:\n",
    "        print(\"- - - - - - - - - - - - - - -\")\n",
    "        print(\"  \".join(str(x) for x in  sudoku[a][0:3]), \" |\", (\"  \".join(str(x) for x in sudoku[a][3:6])), \" |\", (\"  \".join(str(x) for x in sudoku[a][6:9]) ))\n",
    "        \n",
    "    elif a<=5:\n",
    "        print(\"  \".join(str(x) for x in  sudoku[a][0:3]), \" |\", (\"  \".join(str(x) for x in sudoku[a][3:6])), \" |\", (\"  \".join(str(x) for x in sudoku[a][6:9]) ))\n",
    "        \n",
    "    elif a==6: \n",
    "        print(\"- - - - - - - - - - - - - - -\")\n",
    "        print(\"  \".join(str(x) for x in  sudoku[a][0:3]), \" |\", (\"  \".join(str(x) for x in sudoku[a][3:6])), \" |\", (\"  \".join(str(x) for x in sudoku[a][6:9]) ))\n",
    "        \n",
    "    elif a <=7:\n",
    "        print(\"  \".join(str(x) for x in  sudoku[a][0:3]), \" |\", (\"  \".join(str(x) for x in sudoku[a][3:6])), \" |\", (\"  \".join(str(x) for x in sudoku[a][6:9]) ))\n",
    "       \n",
    "    else:\n",
    "        print(\"  \".join(str(x) for x in  sudoku[a][0:3]), \" |\", (\"  \".join(str(x) for x in sudoku[a][3:6])), \" |\", (\"  \".join(str(x) for x in sudoku[a][6:9]) ))\n",
    "        print(\"+ + + + + + + + + + + + + + +\")\n",
    "        "
   ]
  },
  {
   "cell_type": "code",
   "execution_count": null,
   "metadata": {},
   "outputs": [],
   "source": []
  }
 ],
 "metadata": {
  "kernelspec": {
   "display_name": "Python 3",
   "language": "python",
   "name": "python3"
  },
  "language_info": {
   "codemirror_mode": {
    "name": "ipython",
    "version": 3
   },
   "file_extension": ".py",
   "mimetype": "text/x-python",
   "name": "python",
   "nbconvert_exporter": "python",
   "pygments_lexer": "ipython3",
   "version": "3.7.6"
  }
 },
 "nbformat": 4,
 "nbformat_minor": 4
}
